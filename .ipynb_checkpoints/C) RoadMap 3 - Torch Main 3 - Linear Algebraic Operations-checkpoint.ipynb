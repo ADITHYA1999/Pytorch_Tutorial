{
 "cells": [
  {
   "cell_type": "markdown",
   "metadata": {},
   "source": [
    "# RoadMap 3 - Linear Algebraic Operations\n",
    "\n",
    "    \n",
    "    1.   torch.addbmm     - Performs a batch matrix-matrix product of matrices stored in batch1 and batch2, \n",
    "                             with a reduced add step (all matrix multiplications get accumulated along the first \n",
    "                             dimension). mat is added to the final result.\n",
    "    \n",
    "    2.   torch.addmm      - Performs a matrix multiplication of the matrices mat1 and mat2. The matrix mat is added \n",
    "                            to the final result.\n",
    "    \n",
    "    3.   torch.addmv      - Performs a matrix-vector product of the matrix mat and the vector vec. The vector tensor \n",
    "                            is added to the final result.\n",
    "    \n",
    "    4.   torch.addr       - Performs the outer-product of vectors vec1 and vec2 and adds it to the matrix mat.\n",
    "    \n",
    "    5.   torch.bmm        - Performs a batch matrix-matrix product of matrices stored in batch1 and batch2.\n",
    "    \n",
    "    6.   torch.eig        - Computes the eigenvalues and eigenvectors of a real square matrix.\n",
    "    \n",
    "    7.  torch.ger         - Outer product of vec1 and vec2. If vec1 is a vector of size n and vec2 is \n",
    "                             a vector of size m, then out must be a matrix of size (n×m).\n",
    "                             \n",
    "    8.  torch.inverse     - Takes the inverse of the square matrix input.\n",
    "    \n",
    "    9.1 torch.det         - Calculates determinant of a 2D square tensor.\n",
    "    \n",
    "    9.2 torch.logdet      - Calculates log-determinant of a 2D square tensor\n",
    "    \n",
    "    10.1 torch.matmul     - Matrix product of two tensors.\n",
    "    \n",
    "    10.2 torch.mm         - Performs a matrix multiplication of the matrices mat1 and mat2.\n",
    "    \n",
    "    11.  torch.mv         - Performs a matrix-vector product of the matrix mat and the vector vec\n",
    "    \n",
    "    12.  torch.pinverse   - Calculates the pseudo-inverse (also known as the Moore-Penrose inverse) of a 2D tensor.\n",
    "    \n",
    "    13.  torch.cholesky      - Computes the Cholesky decomposition of a symmetric positive-definite matrix A.\n",
    "    \n",
    "    14.  torch.qr         - Computes the QR decomposition of a matrix input, and returns matrices Q and R such \n",
    "                             that input=QR, with Q being an orthogonal matrix and R being an upper \n",
    "                             triangular matrix.\n",
    "    \n",
    "    15.  torch.svd        - U, S, V = torch.svd(A) returns the singular value decomposition of a real \n",
    "                             matrix A of size (n x m) such that A=US(V.t)\n",
    "    "
   ]
  },
  {
   "cell_type": "code",
   "execution_count": 6,
   "metadata": {},
   "outputs": [],
   "source": [
    "import os\n",
    "import sys\n",
    "import torch\n",
    "import numpy as np"
   ]
  },
  {
   "cell_type": "code",
   "execution_count": 7,
   "metadata": {},
   "outputs": [],
   "source": [
    "import torch.nn as nn\n",
    "from torchvision import transforms, datasets\n",
    "from PIL import Image\n",
    "import cv2\n",
    "import matplotlib.pyplot as plt\n",
    "import torchvision\n",
    "\n",
    "# FUNCTIONAL modules - Implementing each module as functions\n",
    "import torch.nn.functional as F"
   ]
  },
  {
   "cell_type": "code",
   "execution_count": null,
   "metadata": {},
   "outputs": [],
   "source": []
  },
  {
   "cell_type": "markdown",
   "metadata": {},
   "source": [
    "## Extra Blog Resources\n",
    "\n",
    "1. https://towardsdatascience.com/linear-algebra-for-deep-learning-f21d7e7d7f23\n",
    "\n",
    "2. https://towardsdatascience.com/linear-algebra-essentials-with-numpy-part-1-af4a867ac5ca\n",
    "\n",
    "3. https://towardsdatascience.com/linear-algebra-for-deep-learning-506c19c0d6fa"
   ]
  },
  {
   "cell_type": "code",
   "execution_count": null,
   "metadata": {},
   "outputs": [],
   "source": []
  },
  {
   "cell_type": "code",
   "execution_count": null,
   "metadata": {},
   "outputs": [],
   "source": []
  },
  {
   "cell_type": "markdown",
   "metadata": {},
   "source": [
    "### Matrix-matrix product batch\n",
    "\n",
    "\n",
    "1. torch.addbmm - Performs a batch matrix-matrix product of matrices stored in batch1 and batch2, \n",
    "    with a reduced add step (all matrix multiplications get accumulated along the first dimension). mat is added to \n",
    "    the final result.\n",
    "        - beta (Number, optional) – multiplier for mat (β)\n",
    "        - mat (Tensor) – matrix to be added\n",
    "        - alpha (Number, optional) – multiplier for batch1 @ batch2 (α)\n",
    "        - batch1 (Tensor) – the first batch of matrices to be multiplied\n",
    "        - batch2 (Tensor) – the second batch of matrices to be multiplied\n",
    "        - out (Tensor, optional) – the output tensor\n",
    "        \n",
    "$$out = \\beta\\ mat + \\alpha\\ (\\sum_{i=0}^{b} batch1_i \\mathbin{@} batch2_i)$$\n",
    "\n",
    "\n",
    "\n",
    "\n"
   ]
  },
  {
   "cell_type": "code",
   "execution_count": 8,
   "metadata": {},
   "outputs": [
    {
     "name": "stdout",
     "output_type": "stream",
     "text": [
      "out =  tensor([[  4.4034,  10.0449,  -1.6211,  -0.1874,   1.8084],\n",
      "        [-13.6686,   7.2830, -24.0032,   9.1567,  -2.6577],\n",
      "        [  3.6453,   1.3986,   2.3641,   2.6715,   4.4922]])\n"
     ]
    }
   ],
   "source": [
    "M = torch.randn(3, 5)\n",
    "batch1 = torch.randn(10, 3, 4)\n",
    "batch2 = torch.randn(10, 4, 5)\n",
    "\n",
    "out = torch.addbmm(M, batch1, batch2)\n",
    "\n",
    "print(\"out = \", out)"
   ]
  },
  {
   "cell_type": "code",
   "execution_count": null,
   "metadata": {},
   "outputs": [],
   "source": []
  },
  {
   "cell_type": "markdown",
   "metadata": {},
   "source": [
    "### Matrix-matrix product \n",
    "\n",
    "\n",
    "2. torch.addmm - Performs a matrix multiplication of the matrices mat1 and mat2. The matrix mat is added to the final result.\n",
    "        - beta (Number, optional) – multiplier for mat (β)\n",
    "        - mat (Tensor) – matrix to be added\n",
    "        - alpha (Number, optional) – multiplier for batch1 @ batch2 (α)\n",
    "        - batch1 (Tensor) – the first batch of matrices to be multiplied\n",
    "        - batch2 (Tensor) – the second batch of matrices to be multiplied\n",
    "        - out (Tensor, optional) – the output tensor\n",
    "        \n",
    "$$out = \\beta\\ mat + \\alpha\\ (mat1_i \\mathbin{@} mat2_i)$$"
   ]
  },
  {
   "cell_type": "code",
   "execution_count": 9,
   "metadata": {},
   "outputs": [
    {
     "name": "stdout",
     "output_type": "stream",
     "text": [
      "out =  tensor([[ 2.8556, -1.9296, -3.7283],\n",
      "        [ 0.7363, -0.2024, -0.5542]])\n"
     ]
    }
   ],
   "source": [
    "M = torch.randn(2, 3)\n",
    "mat1 = torch.randn(2, 3)\n",
    "mat2 = torch.randn(3, 3)\n",
    "out = torch.addmm(M, mat1, mat2)\n",
    "\n",
    "print(\"out = \", out)"
   ]
  },
  {
   "cell_type": "code",
   "execution_count": null,
   "metadata": {},
   "outputs": [],
   "source": []
  },
  {
   "cell_type": "markdown",
   "metadata": {},
   "source": [
    "### Matrix-matrix product \n",
    "\n",
    "\n",
    "3. torch.addmv - Performs a matrix-vector product of the matrix mat and the vector vec. The vector tensor is added to the final result.\n",
    "        - beta (Number, optional) – multiplier for tensor (β)\n",
    "        - tensor (Tensor) – vector to be added\n",
    "        - alpha (Number, optional) – multiplier for mat@vec(α)\n",
    "        - mat (Tensor) – matrix to be multiplied\n",
    "        - vec (Tensor) – vector to be multiplied\n",
    "        - out (Tensor, optional) – the output tensor\n",
    "        \n",
    "$$out = \\beta\\ mat + \\alpha\\ (mat1_i \\mathbin{@} mat2_i)$$"
   ]
  },
  {
   "cell_type": "code",
   "execution_count": 10,
   "metadata": {},
   "outputs": [
    {
     "name": "stdout",
     "output_type": "stream",
     "text": [
      "out =  tensor([1.3346, 0.5646])\n"
     ]
    }
   ],
   "source": [
    "M = torch.randn(2)\n",
    "mat = torch.randn(2, 3)\n",
    "vec = torch.randn(3)\n",
    "out = torch.addmv(M, mat, vec)\n",
    "\n",
    "print(\"out = \", out)"
   ]
  },
  {
   "cell_type": "code",
   "execution_count": null,
   "metadata": {},
   "outputs": [],
   "source": []
  },
  {
   "cell_type": "markdown",
   "metadata": {},
   "source": [
    "### Vector-vector product \n",
    "\n",
    "\n",
    "4. torch.addr - Performs the outer-product of vectors vec1 and vec2 and adds it to the matrix mat.\n",
    "        - beta (Number, optional) – multiplier for mat (β)\n",
    "        - mat (Tensor) – matrix to be added\n",
    "        - alpha (Number, optional) – multiplier for vec1⊗vec2(α)\n",
    "        - vec1 (Tensor) – the first vector of the outer product\n",
    "        - vec2 (Tensor) – the second vector of the outer product\n",
    "        - out (Tensor, optional) – the output tensor\n",
    "        \n",
    "$$out = \\beta\\ mat + \\alpha\\ (vec1 \\otimes vec2)$$"
   ]
  },
  {
   "cell_type": "code",
   "execution_count": 11,
   "metadata": {},
   "outputs": [
    {
     "name": "stdout",
     "output_type": "stream",
     "text": [
      "out =  tensor([[1., 2.],\n",
      "        [2., 4.],\n",
      "        [3., 6.]])\n"
     ]
    }
   ],
   "source": [
    "vec1 = torch.arange(1., 4.)\n",
    "vec2 = torch.arange(1., 3.)\n",
    "M = torch.zeros(3, 2)\n",
    "out = torch.addr(M, vec1, vec2)\n",
    "\n",
    "print(\"out = \", out)"
   ]
  },
  {
   "cell_type": "code",
   "execution_count": null,
   "metadata": {},
   "outputs": [],
   "source": []
  },
  {
   "cell_type": "markdown",
   "metadata": {},
   "source": [
    "### Matrix-matrix product (W/O any addition)\n",
    "\n",
    "\n",
    "5. torch.bmm - Performs a batch matrix-matrix product of matrices stored in batch1 and batch2.\n",
    "        - batch1 (Tensor) – the first batch of matrices to be multiplied\n",
    "        - batch2 (Tensor) – the second batch of matrices to be multiplied\n",
    "        - out (Tensor, optional) – the output tensor\n",
    "\n",
    "        \n",
    "$$out_i = batch1_i \\mathbin{@} batch2_i$$"
   ]
  },
  {
   "cell_type": "code",
   "execution_count": 12,
   "metadata": {},
   "outputs": [
    {
     "name": "stdout",
     "output_type": "stream",
     "text": [
      "out =  tensor([[[ 0.7437,  0.8593, -0.5650,  2.2339, -2.8408],\n",
      "         [ 0.9707,  1.4500, -1.2153,  2.3744, -2.1009],\n",
      "         [ 2.9272, -0.0636, -0.4564, -0.2263,  5.8366]],\n",
      "\n",
      "        [[ 0.5967, -1.1512, -3.0179, -1.3831, -5.3055],\n",
      "         [ 1.5346, -1.3103, -0.8255,  0.7411, -4.7460],\n",
      "         [ 4.2250, -1.2741, -0.2406,  4.2478, -2.0833]],\n",
      "\n",
      "        [[ 1.4040,  2.2058,  1.0956,  2.8448,  1.7912],\n",
      "         [-3.1282, -5.9515, -0.6325, -4.9295, -2.5274],\n",
      "         [ 0.0789,  1.9549, -0.0815,  0.1627, -0.2686]],\n",
      "\n",
      "        [[ 2.0822, -3.0632,  2.4097, -0.5521,  1.0322],\n",
      "         [ 1.2578,  0.5016,  0.4693, -0.6456,  0.9562],\n",
      "         [-1.2447,  1.9112,  0.2670, -0.3284, -0.5599]],\n",
      "\n",
      "        [[-0.5568, -2.5533,  2.5633,  1.4181,  0.1099],\n",
      "         [ 0.7693, -1.4580,  8.6466, -1.2897,  1.5367],\n",
      "         [-1.6044,  1.4384,  0.0270, -0.2809, -0.6436]],\n",
      "\n",
      "        [[ 7.0764, -1.6130,  1.6208,  2.7285,  0.5120],\n",
      "         [ 3.5909,  0.5918,  0.4796,  0.3533, -0.1371],\n",
      "         [-2.9733,  1.2472, -2.9036,  1.0635,  1.7140]],\n",
      "\n",
      "        [[ 1.6158,  0.0578, -0.8277, -2.9544, -1.4111],\n",
      "         [-0.1601,  0.9466, -1.0602,  3.6594, -0.1533],\n",
      "         [ 0.0409, -2.9580,  3.5895, -3.5815,  3.4209]],\n",
      "\n",
      "        [[ 2.6652, -0.5374,  1.7334, -1.9639, -0.7032],\n",
      "         [ 0.3134, -0.5183,  0.3972, -0.2380,  0.5690],\n",
      "         [-3.2127,  0.8942, -0.1338,  1.8794,  1.9246]],\n",
      "\n",
      "        [[ 1.1837, -0.6124,  0.1496, -0.2332,  1.0457],\n",
      "         [ 3.3828, -2.3755,  1.3063, -0.4591,  2.0124],\n",
      "         [-1.7509, -0.1843, -0.8459, -0.0473,  0.1463]],\n",
      "\n",
      "        [[ 0.7983,  5.4368,  1.2951, -3.7066, -0.8764],\n",
      "         [-0.9237,  4.7956,  2.0426, -6.5805, -6.3501],\n",
      "         [ 2.5645,  4.1187,  0.6572,  1.9120,  7.0633]]])\n",
      "out.size =  torch.Size([10, 3, 5])\n"
     ]
    }
   ],
   "source": [
    "batch1 = torch.randn(10, 3, 4)\n",
    "batch2 = torch.randn(10, 4, 5)\n",
    "out = torch.bmm(batch1, batch2)\n",
    "\n",
    "print(\"out = \", out)\n",
    "print(\"out.size = \", out.size())"
   ]
  },
  {
   "cell_type": "code",
   "execution_count": null,
   "metadata": {},
   "outputs": [],
   "source": []
  },
  {
   "cell_type": "code",
   "execution_count": null,
   "metadata": {},
   "outputs": [],
   "source": []
  },
  {
   "cell_type": "code",
   "execution_count": 16,
   "metadata": {},
   "outputs": [
    {
     "name": "stdout",
     "output_type": "stream",
     "text": [
      "x_in =  tensor([[ 0.3464,  0.7114],\n",
      "        [-0.7027,  0.1235]])\n",
      "eigen_values =  tensor([[ 0.2349,  0.6982],\n",
      "        [ 0.2349, -0.6982]])\n",
      "eigen_vectors =  tensor([[ 0.7093,  0.0000],\n",
      "        [-0.1111,  0.6961]])\n"
     ]
    }
   ],
   "source": [
    "# Find eigen values\n",
    "\n",
    "'''\n",
    "6. torch.eig(a, eigenvectors=False, out=None) - Computes the eigenvalues and eigenvectors of a real square matrix.\n",
    "        - a (Tensor) – the square matrix for which the eigenvalues and eigenvectors will be computed\n",
    "        - eigenvectors (bool) – True to compute both eigenvalues and eigenvectors; otherwise, \n",
    "            only eigenvalues will be computed\n",
    "        - out (tuple, optional) – the output tensors\n",
    "\n",
    "'''\n",
    "\n",
    "x_in = torch.randn(2, 2)\n",
    "eigen_values, eigen_vectors = torch.eig(x_in, True)\n",
    "\n",
    "print(\"x_in = \", x_in)\n",
    "print(\"eigen_values = \", eigen_values)\n",
    "print(\"eigen_vectors = \", eigen_vectors)"
   ]
  },
  {
   "cell_type": "code",
   "execution_count": null,
   "metadata": {},
   "outputs": [],
   "source": []
  },
  {
   "cell_type": "code",
   "execution_count": null,
   "metadata": {},
   "outputs": [],
   "source": []
  },
  {
   "cell_type": "code",
   "execution_count": 20,
   "metadata": {},
   "outputs": [
    {
     "name": "stdout",
     "output_type": "stream",
     "text": [
      "v1 =  tensor([1., 2., 3., 4.])\n",
      "v2 =  tensor([1., 2., 3.])\n",
      "x_out =  tensor([[ 1.,  2.,  3.],\n",
      "        [ 2.,  4.,  6.],\n",
      "        [ 3.,  6.,  9.],\n",
      "        [ 4.,  8., 12.]])\n"
     ]
    }
   ],
   "source": [
    "# LAPACK based outer product\n",
    "\n",
    "'''\n",
    "7. torch.ger - Outer product of vec1 and vec2. If vec1 is a vector of size n and vec2 is a \n",
    "    vector of size m, then out must be a matrix of size (n×m).\n",
    "        - vec1 (Tensor) – 1-D input vector\n",
    "        - vec2 (Tensor) – 1-D input vector\n",
    "        - out (Tensor, optional) – optional output matrix\n",
    "\n",
    "'''\n",
    "\n",
    "v1 = torch.arange(1., 5.)\n",
    "v2 = torch.arange(1., 4.)\n",
    "x_out = torch.ger(v1, v2)\n",
    "\n",
    "\n",
    "print(\"v1 = \", v1)\n",
    "print(\"v2 = \", v2)\n",
    "\n",
    "print(\"x_out = \", x_out)\n"
   ]
  },
  {
   "cell_type": "code",
   "execution_count": null,
   "metadata": {},
   "outputs": [],
   "source": []
  },
  {
   "cell_type": "code",
   "execution_count": null,
   "metadata": {},
   "outputs": [],
   "source": []
  },
  {
   "cell_type": "code",
   "execution_count": 22,
   "metadata": {},
   "outputs": [
    {
     "name": "stdout",
     "output_type": "stream",
     "text": [
      "x =  tensor([[0.6937, 0.6140, 0.1341, 0.2020],\n",
      "        [0.0545, 0.1298, 0.4268, 0.8780],\n",
      "        [0.5517, 0.5673, 0.5116, 0.5734],\n",
      "        [0.4209, 0.7084, 0.5178, 0.0885]])\n",
      "x_inverse =  tensor([[-1.9092e+00, -3.9055e+00,  7.1735e+00, -3.3742e+00],\n",
      "        [ 4.2148e+00,  4.3551e+00, -8.7680e+00,  3.9818e+00],\n",
      "        [-4.5019e+00, -3.1732e+00,  6.5640e+00, -7.7278e-01],\n",
      "        [ 1.6839e+00,  2.2803e+00, -2.3401e+00, -3.3596e-03]])\n"
     ]
    }
   ],
   "source": [
    "# Inverse of matrix\n",
    "\n",
    "'''\n",
    "8. torch.inverse - Takes the inverse of the square matrix input.\n",
    "'''\n",
    "\n",
    "x = torch.rand(4, 4)\n",
    "x_inverse = torch.inverse(x)\n",
    "\n",
    "print(\"x = \", x)\n",
    "print(\"x_inverse = \", x_inverse)"
   ]
  },
  {
   "cell_type": "code",
   "execution_count": null,
   "metadata": {},
   "outputs": [],
   "source": []
  },
  {
   "cell_type": "code",
   "execution_count": 23,
   "metadata": {},
   "outputs": [
    {
     "name": "stdout",
     "output_type": "stream",
     "text": [
      "x =  tensor([[0.7159, 0.5569, 0.4744, 0.5258],\n",
      "        [0.8835, 0.9842, 0.2412, 0.0856],\n",
      "        [0.7484, 0.8987, 0.4633, 0.2281],\n",
      "        [0.4799, 0.7272, 0.8523, 0.7313]])\n",
      "Determinant of x =  tensor(0.0187)\n",
      "Log Determinant of x =  tensor(-3.9811)\n"
     ]
    }
   ],
   "source": [
    "# Determinant of matrix\n",
    "\n",
    "'''\n",
    "9.1 torch.det - Calculates determinant of a 2D square tensor.\n",
    "'''\n",
    "\n",
    "'''\n",
    "9.2 torch.logdet - Calculates log-determinant of a 2D square tensor\n",
    "'''\n",
    "\n",
    "x = torch.rand(4, 4)\n",
    "det = torch.det(x)\n",
    "logdet = torch.logdet(x)\n",
    "\n",
    "print(\"x = \", x)\n",
    "print(\"Determinant of x = \", det)\n",
    "print(\"Log Determinant of x = \", logdet)"
   ]
  },
  {
   "cell_type": "code",
   "execution_count": null,
   "metadata": {},
   "outputs": [],
   "source": []
  },
  {
   "cell_type": "code",
   "execution_count": 24,
   "metadata": {},
   "outputs": [
    {
     "name": "stdout",
     "output_type": "stream",
     "text": [
      "Using torch.matmul\n",
      "x1 =  tensor([[-0.6953, -2.7636],\n",
      "        [-0.4842,  0.8854]])\n",
      "x2 =  tensor([[ 1.4318,  0.3629],\n",
      "        [-0.4493,  0.4027]])\n",
      "x_out =  tensor([[ 0.2461, -1.3652],\n",
      "        [-1.0911,  0.1808]])\n",
      "Output size =  torch.Size([2, 2])\n",
      "\n",
      "\n",
      "Using torch.mm\n",
      "x1 =  tensor([[-0.6953, -2.7636],\n",
      "        [-0.4842,  0.8854]])\n",
      "x2 =  tensor([[ 1.4318,  0.3629],\n",
      "        [-0.4493,  0.4027]])\n",
      "x_out =  tensor([[ 0.2461, -1.3652],\n",
      "        [-1.0911,  0.1808]])\n",
      "Output size =  torch.Size([2, 2])\n",
      "\n",
      "\n"
     ]
    }
   ],
   "source": [
    "# Matrix product\n",
    "\n",
    "'''\n",
    "10.1 torch.matmul - Matrix product of two tensors.\n",
    "        - tensor1 (Tensor) – the first tensor to be multiplied\n",
    "        - tensor2 (Tensor) – the second tensor to be multiplied\n",
    "        - out (Tensor, optional) – the output tensor\n",
    "'''\n",
    "\n",
    "\n",
    "'''\n",
    "10.2 torch.mm - Performs a matrix multiplication of the matrices mat1 and mat2. (2D tensors only)\n",
    "        - mat1 (Tensor) – the first matrix to be multiplied\n",
    "        - mat2 (Tensor) – the second matrix to be multiplied\n",
    "        - out (Tensor, optional) – the output tensor\n",
    "'''\n",
    "\n",
    "x1 = torch.randn(2, 2)\n",
    "x2 = torch.randn(2, 2)\n",
    "x_out = torch.matmul(x1, x2)\n",
    "x_out_size = x_out.size()\n",
    "\n",
    "print(\"Using torch.matmul\")\n",
    "print(\"x1 = \", x1)\n",
    "print(\"x2 = \", x2)\n",
    "print(\"x_out = \", x_out)\n",
    "print(\"Output size = \", x_out_size)\n",
    "print(\"\\n\")\n",
    "\n",
    "\n",
    "\n",
    "x_out = torch.mm(x1, x2)\n",
    "x_out_size = x_out.size()\n",
    "\n",
    "print(\"Using torch.mm\")\n",
    "print(\"x1 = \", x1)\n",
    "print(\"x2 = \", x2)\n",
    "print(\"x_out = \", x_out)\n",
    "print(\"Output size = \", x_out_size)\n",
    "print(\"\\n\")\n",
    "\n",
    "\n",
    "\n"
   ]
  },
  {
   "cell_type": "code",
   "execution_count": null,
   "metadata": {},
   "outputs": [],
   "source": []
  },
  {
   "cell_type": "code",
   "execution_count": 25,
   "metadata": {},
   "outputs": [
    {
     "name": "stdout",
     "output_type": "stream",
     "text": [
      "out =  tensor([0.1683, 2.6775])\n"
     ]
    }
   ],
   "source": [
    "# Matrix-Vector multiplication\n",
    "\n",
    "'''\n",
    "11. torch.mv - Performs a matrix-vector product of the matrix mat and the vector vec\n",
    "        - mat (Tensor) – matrix to be multiplied\n",
    "        - vec (Tensor) – vector to be multiplied\n",
    "        - out (Tensor, optional) – the output tensor\n",
    "'''\n",
    "\n",
    "mat = torch.randn(2, 3)\n",
    "vec = torch.randn(3)\n",
    "out = torch.mv(mat, vec)\n",
    "\n",
    "print(\"out = \", out)\n"
   ]
  },
  {
   "cell_type": "code",
   "execution_count": null,
   "metadata": {},
   "outputs": [],
   "source": []
  },
  {
   "cell_type": "code",
   "execution_count": 26,
   "metadata": {},
   "outputs": [
    {
     "name": "stdout",
     "output_type": "stream",
     "text": [
      "x_out =  tensor([[ 0.5054, -0.2563,  0.1367],\n",
      "        [ 0.2363, -0.0124, -0.2054],\n",
      "        [-0.1325,  0.3126, -0.2817],\n",
      "        [-0.0221, -0.3525,  0.0132],\n",
      "        [ 0.0089, -0.0766, -0.0478]])\n"
     ]
    }
   ],
   "source": [
    "# Moore - Penrose Inverse\n",
    "\n",
    "'''\n",
    "12. torch.pinverse - Calculates the pseudo-inverse (also known as the Moore-Penrose inverse) of a 2D tensor.\n",
    "        - input (Tensor) – The input 2D tensor of dimensions m×n\n",
    "        - rcond (float) – A floating point value to determine the cutoff for small singular values. Default: 1e-15\n",
    "'''\n",
    "\n",
    "x_in = torch.randn(3, 5)\n",
    "x_out = torch.pinverse(x_in)\n",
    "\n",
    "print(\"x_out = \", x_out)\n",
    "\n"
   ]
  },
  {
   "cell_type": "code",
   "execution_count": null,
   "metadata": {},
   "outputs": [],
   "source": []
  },
  {
   "cell_type": "code",
   "execution_count": 28,
   "metadata": {},
   "outputs": [
    {
     "name": "stdout",
     "output_type": "stream",
     "text": [
      "u =  tensor([[ 0.9540,  0.0000,  0.0000],\n",
      "        [ 2.0980,  1.1645,  0.0000],\n",
      "        [-0.8299, -0.7896,  0.1621]])\n"
     ]
    }
   ],
   "source": [
    "# Cholesky decomposition \n",
    "\n",
    "'''\n",
    "13. torch.cholesky - Computes the Cholesky decomposition of a symmetric positive-definite matrix A.\n",
    "        - a (Tensor) – the input 2-D tensor, a symmetric positive-definite matrix\n",
    "        - upper (bool, optional) – flag that indicates whether to return the upper or lower triangular matrix\n",
    "        - out (Tensor, optional) – the output matrix\n",
    "'''\n",
    "\n",
    "'''\n",
    "Use - The Cholesky decomposition is mainly used for the numerical solution of linear equations \n",
    "'''\n",
    "\n",
    "a = torch.randn(3, 3)\n",
    "a = torch.mm(a, a.t()) # make symmetric positive definite\n",
    "\n",
    "u = torch.cholesky(a)\n",
    "\n",
    "print(\"u = \", u)"
   ]
  },
  {
   "cell_type": "code",
   "execution_count": null,
   "metadata": {},
   "outputs": [],
   "source": []
  },
  {
   "cell_type": "code",
   "execution_count": 29,
   "metadata": {},
   "outputs": [
    {
     "name": "stdout",
     "output_type": "stream",
     "text": [
      "q =  tensor([[-0.4229,  0.2088, -0.8818],\n",
      "        [-0.2341, -0.9652, -0.1163],\n",
      "        [-0.8754,  0.1572,  0.4571]])\n",
      "r =  tensor([[-1.6471, -1.4413, -1.0192],\n",
      "        [ 0.0000, -1.7612,  1.5167],\n",
      "        [ 0.0000,  0.0000,  1.1089]])\n"
     ]
    }
   ],
   "source": [
    "# QR decomposition\n",
    "\n",
    "'''\n",
    "14. torch.qr - Computes the QR decomposition of a matrix input, and returns matrices Q and R such that input=QR, \n",
    "        with Q being an orthogonal matrix and R being an upper triangular matrix.\n",
    "'''\n",
    "\n",
    "x_in = torch.randn(3, 3)\n",
    "q, r = torch.qr(x_in)\n",
    "\n",
    "print(\"q = \", q)\n",
    "print(\"r = \", r)"
   ]
  },
  {
   "cell_type": "code",
   "execution_count": null,
   "metadata": {},
   "outputs": [],
   "source": []
  },
  {
   "cell_type": "code",
   "execution_count": 30,
   "metadata": {},
   "outputs": [],
   "source": [
    "# Singular Value Decomposition (SVD)\n",
    "\n",
    "'''\n",
    "15. torch.svd - U, S, V = torch.svd(A) returns the singular value decomposition of a real matrix A of size (n x m) \n",
    "        such that A=US(V.t)\n",
    "'''\n",
    "\n",
    "a = torch.tensor([[8.79,  6.11, -9.15,  9.57, -3.49,  9.84],\n",
    "                      [9.93,  6.91, -7.93,  1.64,  4.02,  0.15],\n",
    "                      [9.83,  5.04,  4.86,  8.83,  9.80, -8.99],\n",
    "                      [5.45, -0.27,  4.85,  0.74, 10.00, -6.02],\n",
    "                      [3.16,  7.98,  3.01,  5.80,  4.27, -5.31]]).t()\n",
    "\n",
    "u, s, v = torch.svd(a)"
   ]
  },
  {
   "cell_type": "code",
   "execution_count": null,
   "metadata": {},
   "outputs": [],
   "source": []
  },
  {
   "cell_type": "code",
   "execution_count": null,
   "metadata": {},
   "outputs": [],
   "source": []
  },
  {
   "cell_type": "code",
   "execution_count": null,
   "metadata": {},
   "outputs": [],
   "source": []
  },
  {
   "cell_type": "code",
   "execution_count": null,
   "metadata": {},
   "outputs": [],
   "source": []
  },
  {
   "cell_type": "markdown",
   "metadata": {},
   "source": [
    "## Author - Tessellate Imaging - https://www.tessellateimaging.com/\n",
    "\n",
    "## Monk Library - https://github.com/Tessellate-Imaging/monk_v1\n",
    "\n",
    "    Monk is an opensource low-code tool for computer vision and deep learning\n",
    "\n",
    "### Monk features\n",
    "- low-code\n",
    "- unified wrapper over major deep learning framework - keras, pytorch, gluoncv\n",
    "- syntax invariant wrapper\n",
    "\n",
    "\n",
    "### Enables\n",
    "- to create, manage and version control deep learning experiments\n",
    "- to compare experiments across training metrics\n",
    "- to quickly find best hyper-parameters\n",
    "\n",
    "\n",
    "### At present it only supports transfer learning, but we are working each day to incorporate\n",
    "- GUI based custom model creation\n",
    "- various object detection and segmentation algorithms\n",
    "- deployment pipelines to cloud and local platforms\n",
    "- acceleration libraries such as TensorRT\n",
    "- preprocessing and post processing libraries\n",
    "\n",
    "## To contribute to Monk AI or Pytorch RoadMap repository raise an issue in the git-repo or dm us on linkedin \n",
    " - Abhishek - https://www.linkedin.com/in/abhishek-kumar-annamraju/\n",
    " - Akash - https://www.linkedin.com/in/akashdeepsingh01/"
   ]
  },
  {
   "cell_type": "code",
   "execution_count": null,
   "metadata": {},
   "outputs": [],
   "source": []
  }
 ],
 "metadata": {
  "kernelspec": {
   "display_name": "Python 3",
   "language": "python",
   "name": "python3"
  },
  "language_info": {
   "codemirror_mode": {
    "name": "ipython",
    "version": 3
   },
   "file_extension": ".py",
   "mimetype": "text/x-python",
   "name": "python",
   "nbconvert_exporter": "python",
   "pygments_lexer": "ipython3",
   "version": "3.6.9"
  }
 },
 "nbformat": 4,
 "nbformat_minor": 2
}
