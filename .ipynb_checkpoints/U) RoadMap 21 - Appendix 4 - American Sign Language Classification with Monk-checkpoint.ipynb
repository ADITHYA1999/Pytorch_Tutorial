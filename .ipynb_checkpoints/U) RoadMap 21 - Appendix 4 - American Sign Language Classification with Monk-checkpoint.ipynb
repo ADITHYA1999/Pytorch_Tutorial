{
 "cells": [
  {
   "cell_type": "markdown",
   "metadata": {
    "colab_type": "text",
    "id": "tEQYscLq2-Q6"
   },
   "source": [
    "# Sign Language Classification with Monk"
   ]
  },
  {
   "cell_type": "markdown",
   "metadata": {
    "colab_type": "text",
    "id": "mmbHTqlc3FJN"
   },
   "source": [
    "## Setup Monk"
   ]
  },
  {
   "cell_type": "code",
   "execution_count": 0,
   "metadata": {
    "colab": {},
    "colab_type": "code",
    "id": "OhRbYFDd2yD1"
   },
   "outputs": [],
   "source": [
    "!git clone https://github.com/Tessellate-Imaging/monk_v1.git\n",
    "!pip install -r ./monk_v1/installation/requirements_cu10.txt\n",
    "import sys\n",
    "sys.path.append(\"./monk_v1/monk\")"
   ]
  },
  {
   "cell_type": "code",
   "execution_count": 0,
   "metadata": {
    "colab": {},
    "colab_type": "code",
    "id": "I0q9DhKU4z22"
   },
   "outputs": [],
   "source": [
    "from pytorch_prototype import prototype"
   ]
  },
  {
   "cell_type": "markdown",
   "metadata": {
    "colab_type": "text",
    "id": "1is825QD4v99"
   },
   "source": [
    "## Dataset\n",
    "\n",
    "The ASL alphabet dataset was prepared and hosted by a fellow Kaggler : https://www.kaggle.com/grassknoted/asl-alphabet"
   ]
  },
  {
   "cell_type": "code",
   "execution_count": 0,
   "metadata": {
    "colab": {},
    "colab_type": "code",
    "id": "Py_z8TNr4gsI"
   },
   "outputs": [],
   "source": [
    "!wget https://www.dropbox.com/s/og11tm5l5vb375b/asl-alphabet.zip"
   ]
  },
  {
   "cell_type": "code",
   "execution_count": 0,
   "metadata": {
    "colab": {},
    "colab_type": "code",
    "id": "yVcZpW0h5WRu"
   },
   "outputs": [],
   "source": [
    "!unzip asl-alphabet.zip"
   ]
  },
  {
   "cell_type": "markdown",
   "metadata": {
    "colab_type": "text",
    "id": "XfsGvUls5bNY"
   },
   "source": [
    "## Create Experiment"
   ]
  },
  {
   "cell_type": "code",
   "execution_count": 0,
   "metadata": {
    "colab": {},
    "colab_type": "code",
    "id": "e2vn1jum5cds"
   },
   "outputs": [],
   "source": [
    "# Step 1 - Create experiment\n",
    "ptf = prototype(verbose=1);\n",
    "ptf.Prototype(\"asl\", \"exp1\");"
   ]
  },
  {
   "cell_type": "code",
   "execution_count": 0,
   "metadata": {
    "colab": {},
    "colab_type": "code",
    "id": "8bAk9UeM5fbW"
   },
   "outputs": [],
   "source": [
    "ptf.Default(dataset_path=\"./asl-alphabet/asl_alphabet_train\", model_name=\"resnet50\", freeze_base_network=True, num_epochs=10);"
   ]
  },
  {
   "cell_type": "markdown",
   "metadata": {
    "colab_type": "text",
    "id": "BRp5ZA86582B"
   },
   "source": [
    "## Train"
   ]
  },
  {
   "cell_type": "code",
   "execution_count": 0,
   "metadata": {
    "colab": {},
    "colab_type": "code",
    "id": "t67AkSCO5-AC"
   },
   "outputs": [],
   "source": [
    "ptf.Train()"
   ]
  },
  {
   "cell_type": "markdown",
   "metadata": {
    "colab_type": "text",
    "id": "OR5QiAJt6BLM"
   },
   "source": [
    "## Download Workspace"
   ]
  },
  {
   "cell_type": "code",
   "execution_count": 0,
   "metadata": {
    "colab": {},
    "colab_type": "code",
    "id": "_lWd-4gQ6AeS"
   },
   "outputs": [],
   "source": [
    "!zip -r workspace.zip workspace"
   ]
  },
  {
   "cell_type": "code",
   "execution_count": 0,
   "metadata": {
    "colab": {},
    "colab_type": "code",
    "id": "1HliRhg-6F_1"
   },
   "outputs": [],
   "source": [
    "from google.colab import files\n",
    "\n",
    "files.download('workspace.zip')"
   ]
  },
  {
   "cell_type": "markdown",
   "metadata": {
    "colab_type": "text",
    "id": "rXeqcVyg6S8H"
   },
   "source": [
    "## Code for Realtime Video Classification\n",
    "\n",
    "- Place the workspace folder inside your project directory to load the experiment\n",
    "- Download and setup Monk to your local environment : [DOCS](https://clever-noyce-f9d43f.netlify.com/#/setup/setup)"
   ]
  },
  {
   "cell_type": "code",
   "execution_count": 0,
   "metadata": {
    "colab": {},
    "colab_type": "code",
    "id": "sE8rRfJ46SUd"
   },
   "outputs": [],
   "source": [
    "import os\n",
    "import sys\n",
    "sys.path.append(\"./monk_v1/monk/\");\n",
    "import psutil\n",
    "from pytorch_prototype import prototype\n",
    "from imutils.video import VideoStream\n",
    "import cv2\n",
    "\n",
    "ptf = prototype(verbose=1)\n",
    "ptf.Prototype(\"asl\", \"exp1\", eval_infer=True);\n",
    "\n",
    "if __name__ == '__main__':\n",
    "\n",
    "    vs = VideoStream().start()\n",
    "\n",
    "    while True:\n",
    "        # Read Frame and process\n",
    "        frame = vs.read()\n",
    "        frame = cv2.resize(frame, (640, 480))\n",
    "\n",
    "        #Select and store ROI\n",
    "        cv2.rectangle(frame, (350,50), (600,300), (255,0,0) , 3, 1)\n",
    "\n",
    "        roi = frame[50:300,350:600]\n",
    "        roi = cv2.cvtColor(roi, cv2.COLOR_BGR2RGB)\n",
    "        cv2.imwrite(\"roi.jpg\",roi)\n",
    "\n",
    "        # Run classification\n",
    "        predictions = ptf.Infer(img_name=\"roi.jpg\", return_raw=False);\n",
    "        cv2.putText(frame, predictions['predicted_class'],(350,40),cv2.FONT_HERSHEY_SIMPLEX, 1, (0,255,0), 2)\n",
    "        \n",
    "        # Display Output\n",
    "        cv2.imshow('Detection', cv2.cvtColor(frame, cv2.COLOR_RGB2BGR))\n",
    "        if cv2.waitKey(25) & 0xFF == ord('q'):\n",
    "            cv2.destroyAllWindows()\n",
    "            vs.stop()\n",
    "            break"
   ]
  }
 ],
 "metadata": {
  "accelerator": "GPU",
  "colab": {
   "collapsed_sections": [],
   "name": "ASL_Classification.ipynb",
   "provenance": [],
   "toc_visible": true
  },
  "kernelspec": {
   "display_name": "Python 3",
   "language": "python",
   "name": "python3"
  },
  "language_info": {
   "codemirror_mode": {
    "name": "ipython",
    "version": 3
   },
   "file_extension": ".py",
   "mimetype": "text/x-python",
   "name": "python",
   "nbconvert_exporter": "python",
   "pygments_lexer": "ipython3",
   "version": "3.6.9"
  }
 },
 "nbformat": 4,
 "nbformat_minor": 1
}
